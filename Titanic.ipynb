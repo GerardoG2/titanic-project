{
  "nbformat": 4,
  "nbformat_minor": 0,
  "metadata": {
    "colab": {
      "provenance": [],
      "mount_file_id": "19Lt6zC6w-bNrn7R78_dhmC5JY55yIJao",
      "authorship_tag": "ABX9TyN5/uHU+f/u6aUOZYAw9E7J",
      "include_colab_link": true
    },
    "kernelspec": {
      "name": "python3",
      "display_name": "Python 3"
    },
    "language_info": {
      "name": "python"
    }
  },
  "cells": [
    {
      "cell_type": "markdown",
      "metadata": {
        "id": "view-in-github",
        "colab_type": "text"
      },
      "source": [
        "<a href=\"https://colab.research.google.com/github/GerardoG2/titanic-project/blob/main/Titanic.ipynb\" target=\"_parent\"><img src=\"https://colab.research.google.com/assets/colab-badge.svg\" alt=\"Open In Colab\"/></a>"
      ]
    },
    {
      "cell_type": "code",
      "execution_count": null,
      "metadata": {
        "id": "lAmh3PVOWmyl"
      },
      "outputs": [],
      "source": []
    },
    {
      "cell_type": "markdown",
      "source": [],
      "metadata": {
        "id": "esnaZUVj-NbF"
      }
    },
    {
      "cell_type": "code",
      "source": [],
      "metadata": {
        "id": "bXdirsla-OM6"
      },
      "execution_count": null,
      "outputs": []
    }
  ]
}